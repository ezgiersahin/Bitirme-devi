{
 "cells": [
  {
   "cell_type": "code",
   "execution_count": 72,
   "id": "fb55c18a",
   "metadata": {},
   "outputs": [],
   "source": [
    "from requests import get\n",
    "\n",
    "url = get(\"https://www.imdb.com/search/title/?title_type=feature,tv_movie,short&release_date=2010-01-01,2021-01-01&groups=top_1000&count=250\")\n",
    "\n",
    "requests = url.text"
   ]
  },
  {
   "cell_type": "code",
   "execution_count": 73,
   "id": "8764d345",
   "metadata": {},
   "outputs": [],
   "source": [
    "from bs4 import BeautifulSoup as Soup # Verileri kazımak için kütüphane\n",
    "\n",
    "soup_data = Soup(requests, 'html.parser') # ogeyi denetle yapinca cikan html, js kodlari"
   ]
  },
  {
   "cell_type": "code",
   "execution_count": 74,
   "id": "3a3c9e1d",
   "metadata": {},
   "outputs": [
    {
     "data": {
      "text/plain": [
       "'Feature Film/TV Movie/Short Film,\\nReleased between 2010-01-01 and 2021-01-01,\\nIMDb \"Top 1000\"\\n(Sorted by Popularity Ascending) - IMDb'"
      ]
     },
     "execution_count": 74,
     "metadata": {},
     "output_type": "execute_result"
    }
   ],
   "source": [
    "soup_data.title.text # Yaptigimiz filtrelemeyi gosteriyor"
   ]
  },
  {
   "cell_type": "code",
   "execution_count": 75,
   "id": "e3e9c980",
   "metadata": {},
   "outputs": [],
   "source": [
    "movies = soup_data.findAll('div', {'class':'lister-item mode-advanced'}) #tüm filmleri findAll içerisinde yazilan html etiketine göre getir\n",
    "# first_movie = movies[0] --> ilk film"
   ]
  },
  {
   "cell_type": "code",
   "execution_count": 76,
   "id": "3177409d",
   "metadata": {},
   "outputs": [
    {
     "data": {
      "text/plain": [
       "<div class=\"lister-item mode-advanced\">\n",
       "<div class=\"lister-top-right\">\n",
       "<div class=\"ribbonize\" data-caller=\"filmosearch\" data-tconst=\"tt4154796\"></div>\n",
       "</div>\n",
       "<div class=\"lister-item-image float-left\">\n",
       "<a href=\"/title/tt4154796/\"> <img alt=\"Avengers: Endgame\" class=\"loadlate\" data-tconst=\"tt4154796\" height=\"98\" loadlate=\"https://m.media-amazon.com/images/M/MV5BMTc5MDE2ODcwNV5BMl5BanBnXkFtZTgwMzI2NzQ2NzM@._V1_UX67_CR0,0,67,98_AL_.jpg\" src=\"https://m.media-amazon.com/images/S/sash/4FyxwxECzL-U1J8.png\" width=\"67\"/>\n",
       "</a> </div>\n",
       "<div class=\"lister-item-content\">\n",
       "<h3 class=\"lister-item-header\">\n",
       "<span class=\"lister-item-index unbold text-primary\">1.</span>\n",
       "<a href=\"/title/tt4154796/\">Avengers: Endgame</a>\n",
       "<span class=\"lister-item-year text-muted unbold\">(2019)</span>\n",
       "</h3>\n",
       "<p class=\"text-muted\">\n",
       "<span class=\"certificate\">15A</span>\n",
       "<span class=\"ghost\">|</span>\n",
       "<span class=\"runtime\">181 min</span>\n",
       "<span class=\"ghost\">|</span>\n",
       "<span class=\"genre\">\n",
       "Action, Adventure, Drama            </span>\n",
       "</p>\n",
       "<div class=\"ratings-bar\">\n",
       "<div class=\"inline-block ratings-imdb-rating\" data-value=\"8.4\" name=\"ir\">\n",
       "<span class=\"global-sprite rating-star imdb-rating\"></span>\n",
       "<strong>8.4</strong>\n",
       "</div>\n",
       "<div class=\"inline-block ratings-user-rating\">\n",
       "<span class=\"userRatingValue\" data-tconst=\"tt4154796\" id=\"urv_tt4154796\">\n",
       "<span class=\"global-sprite rating-star no-rating\"></span>\n",
       "<span class=\"rate\" data-no-rating=\"Rate this\" data-value=\"0\" name=\"ur\">Rate this</span>\n",
       "</span>\n",
       "<div class=\"starBarWidget\" id=\"sb_tt4154796\">\n",
       "<div class=\"rating rating-list\" data-csrf-token=\"\" data-ga-identifier=\"\" data-starbar-class=\"rating-list\" data-user=\"\" id=\"tt4154796|imdb|8.4|8.4|adv_li_tt||advsearch|title\" itemprop=\"aggregateRating\" itemscope=\"\" itemtype=\"http://schema.org/AggregateRating\" title=\"Users rated this 8.4/10 (978,309 votes) - click stars to rate\">\n",
       "<meta content=\"8.4\" itemprop=\"ratingValue\"/>\n",
       "<meta content=\"10\" itemprop=\"bestRating\"/>\n",
       "<meta content=\"978309\" itemprop=\"ratingCount\"/>\n",
       "<span class=\"rating-bg\"> </span>\n",
       "<span class=\"rating-imdb\" style=\"width: 117.6px\"> </span>\n",
       "<span class=\"rating-stars\">\n",
       "<a href=\"/register/login?why=vote\" rel=\"nofollow\" title=\"Register or login to rate this title\"><span>1</span></a>\n",
       "<a href=\"/register/login?why=vote\" rel=\"nofollow\" title=\"Register or login to rate this title\"><span>2</span></a>\n",
       "<a href=\"/register/login?why=vote\" rel=\"nofollow\" title=\"Register or login to rate this title\"><span>3</span></a>\n",
       "<a href=\"/register/login?why=vote\" rel=\"nofollow\" title=\"Register or login to rate this title\"><span>4</span></a>\n",
       "<a href=\"/register/login?why=vote\" rel=\"nofollow\" title=\"Register or login to rate this title\"><span>5</span></a>\n",
       "<a href=\"/register/login?why=vote\" rel=\"nofollow\" title=\"Register or login to rate this title\"><span>6</span></a>\n",
       "<a href=\"/register/login?why=vote\" rel=\"nofollow\" title=\"Register or login to rate this title\"><span>7</span></a>\n",
       "<a href=\"/register/login?why=vote\" rel=\"nofollow\" title=\"Register or login to rate this title\"><span>8</span></a>\n",
       "<a href=\"/register/login?why=vote\" rel=\"nofollow\" title=\"Register or login to rate this title\"><span>9</span></a>\n",
       "<a href=\"/register/login?why=vote\" rel=\"nofollow\" title=\"Register or login to rate this title\"><span>10</span></a>\n",
       "</span>\n",
       "<span class=\"rating-rating\"><span class=\"value\">8.4</span><span class=\"grey\">/</span><span class=\"grey\">10</span></span>\n",
       "<span class=\"rating-cancel\"><a href=\"/title/tt4154796/vote\" rel=\"nofollow\" title=\"Delete\"><span>X</span></a></span>\n",
       " </div>\n",
       "</div>\n",
       "</div>\n",
       "<div class=\"inline-block ratings-metascore\">\n",
       "<span class=\"metascore favorable\">78        </span>\n",
       "        Metascore\n",
       "            </div>\n",
       "</div>\n",
       "<p class=\"text-muted\">\n",
       "After the devastating events of <a href=\"/title/tt4154756\">Avengers: Infinity War</a> (2018), the universe is in ruins. With the help of remaining allies, the Avengers assemble once more in order to reverse Thanos' actions and restore balance to the universe.</p>\n",
       "<p class=\"\">\n",
       "    Directors:\n",
       "<a href=\"/name/nm0751577/\">Anthony Russo</a>, \n",
       "<a href=\"/name/nm0751648/\">Joe Russo</a>\n",
       "<span class=\"ghost\">|</span> \n",
       "    Stars:\n",
       "<a href=\"/name/nm0000375/\">Robert Downey Jr.</a>, \n",
       "<a href=\"/name/nm0262635/\">Chris Evans</a>, \n",
       "<a href=\"/name/nm0749263/\">Mark Ruffalo</a>, \n",
       "<a href=\"/name/nm1165110/\">Chris Hemsworth</a>\n",
       "</p>\n",
       "<p class=\"sort-num_votes-visible\">\n",
       "<span class=\"text-muted\">Votes:</span>\n",
       "<span data-value=\"978309\" name=\"nv\">978,309</span>\n",
       "<span class=\"ghost\">|</span> <span class=\"text-muted\">Gross:</span>\n",
       "<span data-value=\"858,373,000\" name=\"nv\">$858.37M</span>\n",
       "</p>\n",
       "</div>\n",
       "</div>"
      ]
     },
     "execution_count": 76,
     "metadata": {},
     "output_type": "execute_result"
    }
   ],
   "source": [
    "first_movie = movies[0]\n",
    "first_movie"
   ]
  },
  {
   "cell_type": "code",
   "execution_count": 77,
   "id": "4239e12a",
   "metadata": {},
   "outputs": [
    {
     "data": {
      "text/plain": [
       "<h3 class=\"lister-item-header\">\n",
       "<span class=\"lister-item-index unbold text-primary\">1.</span>\n",
       "<a href=\"/title/tt4154796/\">Avengers: Endgame</a>\n",
       "<span class=\"lister-item-year text-muted unbold\">(2019)</span>\n",
       "</h3>"
      ]
     },
     "execution_count": 77,
     "metadata": {},
     "output_type": "execute_result"
    }
   ],
   "source": [
    "first_movie.h3"
   ]
  },
  {
   "cell_type": "code",
   "execution_count": 78,
   "id": "81e58a6a",
   "metadata": {},
   "outputs": [
    {
     "data": {
      "text/plain": [
       "'Avengers: Endgame'"
      ]
     },
     "execution_count": 78,
     "metadata": {},
     "output_type": "execute_result"
    }
   ],
   "source": [
    "first_movie.h3.a.text # birinci filmin adını getirten yapı, method"
   ]
  },
  {
   "cell_type": "code",
   "execution_count": 79,
   "id": "40ac669f",
   "metadata": {},
   "outputs": [
    {
     "data": {
      "text/plain": [
       "'(2019)'"
      ]
     },
     "execution_count": 79,
     "metadata": {},
     "output_type": "execute_result"
    }
   ],
   "source": [
    "# Birinci filmin yılı\n",
    "first_movie.find('span', {'class':'lister-item-year text-muted unbold'}).text"
   ]
  },
  {
   "cell_type": "code",
   "execution_count": 82,
   "id": "aec5afc1",
   "metadata": {},
   "outputs": [
    {
     "data": {
      "text/plain": [
       "[<span class=\"lister-item-index unbold text-primary\">1.</span>,\n",
       " <span class=\"lister-item-year text-muted unbold\">(2019)</span>,\n",
       " <span class=\"certificate\">15A</span>,\n",
       " <span class=\"ghost\">|</span>,\n",
       " <span class=\"runtime\">181 min</span>,\n",
       " <span class=\"ghost\">|</span>,\n",
       " <span class=\"genre\">\n",
       " Action, Adventure, Drama            </span>,\n",
       " <span class=\"global-sprite rating-star imdb-rating\"></span>,\n",
       " <span class=\"userRatingValue\" data-tconst=\"tt4154796\" id=\"urv_tt4154796\">\n",
       " <span class=\"global-sprite rating-star no-rating\"></span>\n",
       " <span class=\"rate\" data-no-rating=\"Rate this\" data-value=\"0\" name=\"ur\">Rate this</span>\n",
       " </span>,\n",
       " <span class=\"global-sprite rating-star no-rating\"></span>,\n",
       " <span class=\"rate\" data-no-rating=\"Rate this\" data-value=\"0\" name=\"ur\">Rate this</span>,\n",
       " <span class=\"rating-bg\"> </span>,\n",
       " <span class=\"rating-imdb\" style=\"width: 117.6px\"> </span>,\n",
       " <span class=\"rating-stars\">\n",
       " <a href=\"/register/login?why=vote\" rel=\"nofollow\" title=\"Register or login to rate this title\"><span>1</span></a>\n",
       " <a href=\"/register/login?why=vote\" rel=\"nofollow\" title=\"Register or login to rate this title\"><span>2</span></a>\n",
       " <a href=\"/register/login?why=vote\" rel=\"nofollow\" title=\"Register or login to rate this title\"><span>3</span></a>\n",
       " <a href=\"/register/login?why=vote\" rel=\"nofollow\" title=\"Register or login to rate this title\"><span>4</span></a>\n",
       " <a href=\"/register/login?why=vote\" rel=\"nofollow\" title=\"Register or login to rate this title\"><span>5</span></a>\n",
       " <a href=\"/register/login?why=vote\" rel=\"nofollow\" title=\"Register or login to rate this title\"><span>6</span></a>\n",
       " <a href=\"/register/login?why=vote\" rel=\"nofollow\" title=\"Register or login to rate this title\"><span>7</span></a>\n",
       " <a href=\"/register/login?why=vote\" rel=\"nofollow\" title=\"Register or login to rate this title\"><span>8</span></a>\n",
       " <a href=\"/register/login?why=vote\" rel=\"nofollow\" title=\"Register or login to rate this title\"><span>9</span></a>\n",
       " <a href=\"/register/login?why=vote\" rel=\"nofollow\" title=\"Register or login to rate this title\"><span>10</span></a>\n",
       " </span>,\n",
       " <span>1</span>,\n",
       " <span>2</span>,\n",
       " <span>3</span>,\n",
       " <span>4</span>,\n",
       " <span>5</span>,\n",
       " <span>6</span>,\n",
       " <span>7</span>,\n",
       " <span>8</span>,\n",
       " <span>9</span>,\n",
       " <span>10</span>,\n",
       " <span class=\"rating-rating\"><span class=\"value\">8.4</span><span class=\"grey\">/</span><span class=\"grey\">10</span></span>,\n",
       " <span class=\"value\">8.4</span>,\n",
       " <span class=\"grey\">/</span>,\n",
       " <span class=\"grey\">10</span>,\n",
       " <span class=\"rating-cancel\"><a href=\"/title/tt4154796/vote\" rel=\"nofollow\" title=\"Delete\"><span>X</span></a></span>,\n",
       " <span>X</span>,\n",
       " <span class=\"metascore favorable\">78        </span>,\n",
       " <span class=\"ghost\">|</span>,\n",
       " <span class=\"text-muted\">Votes:</span>,\n",
       " <span data-value=\"978309\" name=\"nv\">978,309</span>,\n",
       " <span class=\"ghost\">|</span>,\n",
       " <span class=\"text-muted\">Gross:</span>,\n",
       " <span data-value=\"858,373,000\" name=\"nv\">$858.37M</span>]"
      ]
     },
     "execution_count": 82,
     "metadata": {},
     "output_type": "execute_result"
    }
   ],
   "source": [
    "my_movie = first_movie.findAll('span')\n",
    "my_movie"
   ]
  },
  {
   "cell_type": "code",
   "execution_count": 9,
   "id": "bf1ca484",
   "metadata": {},
   "outputs": [
    {
     "data": {
      "text/plain": [
       "'8.4'"
      ]
     },
     "execution_count": 9,
     "metadata": {},
     "output_type": "execute_result"
    }
   ],
   "source": [
    "# Birinci filmin imdb puanı\n",
    "first_movie.find('div', {'class':'inline-block ratings-imdb-rating'})['data-value']"
   ]
  },
  {
   "cell_type": "code",
   "execution_count": 10,
   "id": "7468f0ee",
   "metadata": {},
   "outputs": [
    {
     "data": {
      "text/plain": [
       "'78'"
      ]
     },
     "execution_count": 10,
     "metadata": {},
     "output_type": "execute_result"
    }
   ],
   "source": [
    "# Birinci filmin metascore'u\n",
    "first_movie.find('div', {'class':'inline-block ratings-metascore'}).span.text.strip()"
   ]
  },
  {
   "cell_type": "code",
   "execution_count": 11,
   "id": "084629bb",
   "metadata": {},
   "outputs": [
    {
     "data": {
      "text/plain": [
       "'978309'"
      ]
     },
     "execution_count": 11,
     "metadata": {},
     "output_type": "execute_result"
    }
   ],
   "source": [
    "# Birinci filmi kac kisinin oyladigi\n",
    "first_movie.find('span', {'name':'nv'})['data-value']"
   ]
  },
  {
   "cell_type": "code",
   "execution_count": 70,
   "id": "460f7a4d",
   "metadata": {},
   "outputs": [
    {
     "data": {
      "text/plain": [
       "'$858.37M'"
      ]
     },
     "execution_count": 70,
     "metadata": {},
     "output_type": "execute_result"
    }
   ],
   "source": [
    "# Birinci filmi kac kisinin oyladigi\n",
    "first_movie.find_all(\"span\", {'name':'nv',\"data-value\": True})[1].text"
   ]
  },
  {
   "cell_type": "code",
   "execution_count": 22,
   "id": "83ba19ab",
   "metadata": {},
   "outputs": [
    {
     "data": {
      "text/plain": [
       "<p class=\"sort-num_votes-visible\">\n",
       "<span class=\"text-muted\">Votes:</span>\n",
       "<span data-value=\"978309\" name=\"nv\">978,309</span>\n",
       "<span class=\"ghost\">|</span> <span class=\"text-muted\">Gross:</span>\n",
       "<span data-value=\"858,373,000\" name=\"nv\">$858.37M</span>\n",
       "</p>"
      ]
     },
     "execution_count": 22,
     "metadata": {},
     "output_type": "execute_result"
    }
   ],
   "source": [
    "first_movie.find('p',{'class' : 'sort-num_votes-visible'})"
   ]
  },
  {
   "cell_type": "code",
   "execution_count": 23,
   "id": "bd791cc6",
   "metadata": {},
   "outputs": [],
   "source": [
    "for first_div in soup_data.select(\".nv > p:nth-of-type(1)\"):\n",
    "    print(first_div.text)"
   ]
  },
  {
   "cell_type": "code",
   "execution_count": 43,
   "id": "f7ace7b4",
   "metadata": {},
   "outputs": [
    {
     "data": {
      "text/plain": [
       "<span class=\"lister-item-index unbold text-primary\">1.</span>"
      ]
     },
     "execution_count": 43,
     "metadata": {},
     "output_type": "execute_result"
    }
   ],
   "source": [
    "first_movie.span"
   ]
  },
  {
   "cell_type": "code",
   "execution_count": 67,
   "id": "d6628376",
   "metadata": {},
   "outputs": [
    {
     "name": "stdout",
     "output_type": "stream",
     "text": [
      "[<span data-value=\"978309\" name=\"nv\">978,309</span>, <span data-value=\"858,373,000\" name=\"nv\">$858.37M</span>]\n",
      "[<span data-value=\"449463\" name=\"nv\">449,463</span>, <span data-value=\"190,241,310\" name=\"nv\">$190.24M</span>]\n",
      "[<span data-value=\"129455\" name=\"nv\">129,455</span>]\n",
      "[<span data-value=\"1657194\" name=\"nv\">1,657,194</span>, <span data-value=\"188,020,017\" name=\"nv\">$188.02M</span>]\n",
      "[<span data-value=\"1292089\" name=\"nv\">1,292,089</span>, <span data-value=\"116,900,694\" name=\"nv\">$116.90M</span>]\n",
      "[<span data-value=\"175505\" name=\"nv\">175,505</span>, <span data-value=\"108,101,214\" name=\"nv\">$108.10M</span>]\n",
      "[<span data-value=\"954694\" name=\"nv\">954,694</span>, <span data-value=\"678,815,482\" name=\"nv\">$678.82M</span>]\n",
      "[<span data-value=\"625624\" name=\"nv\">625,624</span>, <span data-value=\"128,261,724\" name=\"nv\">$128.26M</span>]\n",
      "[<span data-value=\"656910\" name=\"nv\">656,910</span>, <span data-value=\"142,502,728\" name=\"nv\">$142.50M</span>]\n",
      "[<span data-value=\"1112296\" name=\"nv\">1,112,296</span>, <span data-value=\"335,451,311\" name=\"nv\">$335.45M</span>]\n",
      "[<span data-value=\"290522\" name=\"nv\">290,522</span>]\n",
      "[<span data-value=\"694274\" name=\"nv\">694,274</span>, <span data-value=\"53,367,844\" name=\"nv\">$53.37M</span>]\n",
      "[<span data-value=\"2206509\" name=\"nv\">2,206,509</span>, <span data-value=\"292,576,195\" name=\"nv\">$292.58M</span>]\n",
      "[<span data-value=\"515292\" name=\"nv\">515,292</span>, <span data-value=\"159,227,644\" name=\"nv\">$159.23M</span>]\n",
      "[<span data-value=\"816702\" name=\"nv\">816,702</span>, <span data-value=\"381,011,219\" name=\"nv\">$381.01M</span>]\n",
      "[<span data-value=\"558085\" name=\"nv\">558,085</span>, <span data-value=\"165,359,751\" name=\"nv\">$165.36M</span>]\n",
      "[<span data-value=\"231197\" name=\"nv\">231,197</span>, <span data-value=\"33,800,859\" name=\"nv\">$33.80M</span>]\n",
      "[<span data-value=\"519580\" name=\"nv\">519,580</span>, <span data-value=\"92,054,159\" name=\"nv\">$92.05M</span>]\n",
      "[<span data-value=\"924052\" name=\"nv\">924,052</span>, <span data-value=\"167,767,189\" name=\"nv\">$167.77M</span>]\n",
      "[<span data-value=\"1451319\" name=\"nv\">1,451,319</span>, <span data-value=\"162,805,434\" name=\"nv\">$162.81M</span>]\n",
      "[<span data-value=\"512192\" name=\"nv\">512,192</span>, <span data-value=\"295,983,305\" name=\"nv\">$295.98M</span>]\n",
      "[<span data-value=\"122490\" name=\"nv\">122,490</span>]\n",
      "[<span data-value=\"111604\" name=\"nv\">111,604</span>]\n",
      "[<span data-value=\"1110620\" name=\"nv\">1,110,620</span>, <span data-value=\"333,176,600\" name=\"nv\">$333.18M</span>]\n",
      "[<span data-value=\"758702\" name=\"nv\">758,702</span>, <span data-value=\"59,100,318\" name=\"nv\">$59.10M</span>]\n",
      "[<span data-value=\"349570\" name=\"nv\">349,570</span>, <span data-value=\"349,555\" name=\"nv\">$0.35M</span>]\n",
      "[<span data-value=\"1324403\" name=\"nv\">1,324,403</span>, <span data-value=\"623,279,547\" name=\"nv\">$623.28M</span>]\n",
      "[<span data-value=\"244721\" name=\"nv\">244,721</span>, <span data-value=\"18,095,701\" name=\"nv\">$18.10M</span>]\n",
      "[<span data-value=\"665113\" name=\"nv\">665,113</span>, <span data-value=\"315,058,289\" name=\"nv\">$315.06M</span>]\n",
      "[<span data-value=\"531394\" name=\"nv\">531,394</span>, <span data-value=\"324,591,735\" name=\"nv\">$324.59M</span>]\n",
      "[<span data-value=\"966164\" name=\"nv\">966,164</span>, <span data-value=\"363,070,709\" name=\"nv\">$363.07M</span>]\n",
      "[<span data-value=\"541840\" name=\"nv\">541,840</span>, <span data-value=\"176,040,665\" name=\"nv\">$176.04M</span>]\n",
      "[<span data-value=\"652649\" name=\"nv\">652,649</span>, <span data-value=\"61,002,302\" name=\"nv\">$61.00M</span>]\n",
      "[<span data-value=\"724737\" name=\"nv\">724,737</span>, <span data-value=\"408,084,349\" name=\"nv\">$408.08M</span>]\n",
      "[<span data-value=\"398576\" name=\"nv\">398,576</span>, <span data-value=\"70,259,870\" name=\"nv\">$70.26M</span>]\n",
      "[<span data-value=\"588830\" name=\"nv\">588,830</span>, <span data-value=\"532,177,324\" name=\"nv\">$532.18M</span>]\n",
      "[<span data-value=\"498775\" name=\"nv\">498,775</span>, <span data-value=\"216,428,042\" name=\"nv\">$216.43M</span>]\n",
      "[<span data-value=\"78632\" name=\"nv\">78,632</span>]\n",
      "[<span data-value=\"788600\" name=\"nv\">788,600</span>, <span data-value=\"303,003,568\" name=\"nv\">$303.00M</span>]\n",
      "[<span data-value=\"755200\" name=\"nv\">755,200</span>, <span data-value=\"183,637,894\" name=\"nv\">$183.64M</span>]\n",
      "[<span data-value=\"1218263\" name=\"nv\">1,218,263</span>, <span data-value=\"128,012,934\" name=\"nv\">$128.01M</span>]\n",
      "[<span data-value=\"778669\" name=\"nv\">778,669</span>, <span data-value=\"13,092,000\" name=\"nv\">$13.09M</span>]\n",
      "[<span data-value=\"1599713\" name=\"nv\">1,599,713</span>, <span data-value=\"448,139,099\" name=\"nv\">$448.14M</span>]\n",
      "[<span data-value=\"478992\" name=\"nv\">478,992</span>, <span data-value=\"67,209,615\" name=\"nv\">$67.21M</span>]\n",
      "[<span data-value=\"942816\" name=\"nv\">942,816</span>, <span data-value=\"154,058,340\" name=\"nv\">$154.06M</span>]\n",
      "[<span data-value=\"163212\" name=\"nv\">163,212</span>]\n",
      "[<span data-value=\"326946\" name=\"nv\">326,946</span>, <span data-value=\"171,243,005\" name=\"nv\">$171.24M</span>]\n",
      "[<span data-value=\"673111\" name=\"nv\">673,111</span>, <span data-value=\"304,360,277\" name=\"nv\">$304.36M</span>]\n",
      "[<span data-value=\"358967\" name=\"nv\">358,967</span>, <span data-value=\"7,000,000\" name=\"nv\">$7.00M</span>]\n",
      "[<span data-value=\"446203\" name=\"nv\">446,203</span>, <span data-value=\"102,515,793\" name=\"nv\">$102.52M</span>]\n",
      "[<span data-value=\"624802\" name=\"nv\">624,802</span>, <span data-value=\"389,813,101\" name=\"nv\">$389.81M</span>]\n",
      "[<span data-value=\"651820\" name=\"nv\">651,820</span>, <span data-value=\"100,546,139\" name=\"nv\">$100.55M</span>]\n",
      "[<span data-value=\"893339\" name=\"nv\">893,339</span>, <span data-value=\"936,662,225\" name=\"nv\">$936.66M</span>]\n",
      "[<span data-value=\"603173\" name=\"nv\">603,173</span>, <span data-value=\"35,061,555\" name=\"nv\">$35.06M</span>]\n",
      "[<span data-value=\"466999\" name=\"nv\">466,999</span>, <span data-value=\"27,298,285\" name=\"nv\">$27.30M</span>]\n",
      "[<span data-value=\"547480\" name=\"nv\">547,480</span>, <span data-value=\"151,101,803\" name=\"nv\">$151.10M</span>]\n",
      "[<span data-value=\"404295\" name=\"nv\">404,295</span>, <span data-value=\"46,889,293\" name=\"nv\">$46.89M</span>]\n",
      "[<span data-value=\"561152\" name=\"nv\">561,152</span>, <span data-value=\"54,117,416\" name=\"nv\">$54.12M</span>]\n",
      "[<span data-value=\"303948\" name=\"nv\">303,948</span>, <span data-value=\"248,757,044\" name=\"nv\">$248.76M</span>]\n",
      "[<span data-value=\"731948\" name=\"nv\">731,948</span>, <span data-value=\"106,954,678\" name=\"nv\">$106.95M</span>]\n",
      "[<span data-value=\"608580\" name=\"nv\">608,580</span>, <span data-value=\"188,373,161\" name=\"nv\">$188.37M</span>]\n",
      "[<span data-value=\"511051\" name=\"nv\">511,051</span>, <span data-value=\"25,442,958\" name=\"nv\">$25.44M</span>]\n",
      "[<span data-value=\"702378\" name=\"nv\">702,378</span>, <span data-value=\"226,277,068\" name=\"nv\">$226.28M</span>]\n",
      "[<span data-value=\"439390\" name=\"nv\">439,390</span>, <span data-value=\"85,080,171\" name=\"nv\">$85.08M</span>]\n",
      "[<span data-value=\"629104\" name=\"nv\">629,104</span>, <span data-value=\"258,366,855\" name=\"nv\">$258.37M</span>]\n",
      "[<span data-value=\"728113\" name=\"nv\">728,113</span>, <span data-value=\"91,125,683\" name=\"nv\">$91.13M</span>]\n",
      "[<span data-value=\"146377\" name=\"nv\">146,377</span>, <span data-value=\"2,199,675\" name=\"nv\">$2.20M</span>]\n",
      "[<span data-value=\"309404\" name=\"nv\">309,404</span>, <span data-value=\"687,185\" name=\"nv\">$0.69M</span>]\n",
      "[<span data-value=\"289334\" name=\"nv\">289,334</span>]\n",
      "[<span data-value=\"663957\" name=\"nv\">663,957</span>, <span data-value=\"96,962,694\" name=\"nv\">$96.96M</span>]\n",
      "[<span data-value=\"346773\" name=\"nv\">346,773</span>, <span data-value=\"117,624,028\" name=\"nv\">$117.62M</span>]\n",
      "[<span data-value=\"398550\" name=\"nv\">398,550</span>, <span data-value=\"75,605,492\" name=\"nv\">$75.61M</span>]\n",
      "[<span data-value=\"336110\" name=\"nv\">336,110</span>, <span data-value=\"45,512,466\" name=\"nv\">$45.51M</span>]\n",
      "[<span data-value=\"327934\" name=\"nv\">327,934</span>, <span data-value=\"15,322,921\" name=\"nv\">$15.32M</span>]\n",
      "[<span data-value=\"447180\" name=\"nv\">447,180</span>, <span data-value=\"209,726,015\" name=\"nv\">$209.73M</span>]\n",
      "[<span data-value=\"808828\" name=\"nv\">808,828</span>, <span data-value=\"13,182,281\" name=\"nv\">$13.18M</span>]\n",
      "[<span data-value=\"361892\" name=\"nv\">361,892</span>, <span data-value=\"215,288,866\" name=\"nv\">$215.29M</span>]\n",
      "[<span data-value=\"458344\" name=\"nv\">458,344</span>, <span data-value=\"26,947,624\" name=\"nv\">$26.95M</span>]\n",
      "[<span data-value=\"487464\" name=\"nv\">487,464</span>, <span data-value=\"17,738,570\" name=\"nv\">$17.74M</span>]\n",
      "[<span data-value=\"197644\" name=\"nv\">197,644</span>, <span data-value=\"2,129,768\" name=\"nv\">$2.13M</span>]\n",
      "[<span data-value=\"77785\" name=\"nv\">77,785</span>]\n",
      "[<span data-value=\"575979\" name=\"nv\">575,979</span>, <span data-value=\"25,568,251\" name=\"nv\">$25.57M</span>]\n",
      "[<span data-value=\"595869\" name=\"nv\">595,869</span>, <span data-value=\"136,025,503\" name=\"nv\">$136.03M</span>]\n",
      "[<span data-value=\"155489\" name=\"nv\">155,489</span>, <span data-value=\"132,422,809\" name=\"nv\">$132.42M</span>]\n",
      "[<span data-value=\"281150\" name=\"nv\">281,150</span>, <span data-value=\"2,000,000\" name=\"nv\">$2.00M</span>]\n",
      "[<span data-value=\"505420\" name=\"nv\">505,420</span>, <span data-value=\"32,381,218\" name=\"nv\">$32.38M</span>]\n",
      "[<span data-value=\"686530\" name=\"nv\">686,530</span>, <span data-value=\"132,092,958\" name=\"nv\">$132.09M</span>]\n",
      "[<span data-value=\"807708\" name=\"nv\">807,708</span>, <span data-value=\"228,433,663\" name=\"nv\">$228.43M</span>]\n",
      "[<span data-value=\"59291\" name=\"nv\">59,291</span>]\n",
      "[<span data-value=\"233762\" name=\"nv\">233,762</span>, <span data-value=\"5,017,246\" name=\"nv\">$5.02M</span>]\n",
      "[<span data-value=\"228345\" name=\"nv\">228,345</span>, <span data-value=\"434,038,008\" name=\"nv\">$434.04M</span>]\n",
      "[<span data-value=\"312387\" name=\"nv\">312,387</span>, <span data-value=\"220,159,104\" name=\"nv\">$220.16M</span>]\n",
      "[<span data-value=\"791300\" name=\"nv\">791,300</span>, <span data-value=\"259,766,572\" name=\"nv\">$259.77M</span>]\n",
      "[<span data-value=\"111138\" name=\"nv\">111,138</span>]\n",
      "[<span data-value=\"131904\" name=\"nv\">131,904</span>, <span data-value=\"2,006,788\" name=\"nv\">$2.01M</span>]\n",
      "[<span data-value=\"208628\" name=\"nv\">208,628</span>, <span data-value=\"5,875,006\" name=\"nv\">$5.88M</span>]\n",
      "[<span data-value=\"474799\" name=\"nv\">474,799</span>, <span data-value=\"54,513,740\" name=\"nv\">$54.51M</span>]\n",
      "[<span data-value=\"266133\" name=\"nv\">266,133</span>, <span data-value=\"47,695,371\" name=\"nv\">$47.70M</span>]\n",
      "[<span data-value=\"86172\" name=\"nv\">86,172</span>, <span data-value=\"2,852,400\" name=\"nv\">$2.85M</span>]\n",
      "[<span data-value=\"217741\" name=\"nv\">217,741</span>, <span data-value=\"26,862,450\" name=\"nv\">$26.86M</span>]\n",
      "[<span data-value=\"398191\" name=\"nv\">398,191</span>, <span data-value=\"14,677,674\" name=\"nv\">$14.68M</span>]\n",
      "[<span data-value=\"172586\" name=\"nv\">172,586</span>, <span data-value=\"3,333,000\" name=\"nv\">$3.33M</span>]\n",
      "[<span data-value=\"215573\" name=\"nv\">215,573</span>, <span data-value=\"169,607,287\" name=\"nv\">$169.61M</span>]\n",
      "[<span data-value=\"640545\" name=\"nv\">640,545</span>, <span data-value=\"100,206,256\" name=\"nv\">$100.21M</span>]\n",
      "[<span data-value=\"166404\" name=\"nv\">166,404</span>, <span data-value=\"6,857,096\" name=\"nv\">$6.86M</span>]\n",
      "[<span data-value=\"465878\" name=\"nv\">465,878</span>, <span data-value=\"341,268,248\" name=\"nv\">$341.27M</span>]\n",
      "[<span data-value=\"361390\" name=\"nv\">361,390</span>, <span data-value=\"124,872,350\" name=\"nv\">$124.87M</span>]\n",
      "[<span data-value=\"448598\" name=\"nv\">448,598</span>, <span data-value=\"45,055,776\" name=\"nv\">$45.06M</span>]\n",
      "[<span data-value=\"664971\" name=\"nv\">664,971</span>, <span data-value=\"356,461,711\" name=\"nv\">$356.46M</span>]\n",
      "[<span data-value=\"671902\" name=\"nv\">671,902</span>, <span data-value=\"56,671,993\" name=\"nv\">$56.67M</span>]\n",
      "[<span data-value=\"798941\" name=\"nv\">798,941</span>, <span data-value=\"274,092,705\" name=\"nv\">$274.09M</span>]\n",
      "[<span data-value=\"80843\" name=\"nv\">80,843</span>, <span data-value=\"3,759,854\" name=\"nv\">$3.76M</span>]\n",
      "[<span data-value=\"442444\" name=\"nv\">442,444</span>, <span data-value=\"169,708,112\" name=\"nv\">$169.71M</span>]\n",
      "[<span data-value=\"41375\" name=\"nv\">41,375</span>, <span data-value=\"47,700,000\" name=\"nv\">$47.70M</span>]\n",
      "[<span data-value=\"702301\" name=\"nv\">702,301</span>, <span data-value=\"217,581,231\" name=\"nv\">$217.58M</span>]\n",
      "[<span data-value=\"454166\" name=\"nv\">454,166</span>, <span data-value=\"13,657,115\" name=\"nv\">$13.66M</span>]\n",
      "[<span data-value=\"474960\" name=\"nv\">474,960</span>, <span data-value=\"228,778,661\" name=\"nv\">$228.78M</span>]\n",
      "[<span data-value=\"79073\" name=\"nv\">79,073</span>, <span data-value=\"1,661,096\" name=\"nv\">$1.66M</span>]\n",
      "[<span data-value=\"668678\" name=\"nv\">668,678</span>, <span data-value=\"146,408,305\" name=\"nv\">$146.41M</span>]\n",
      "[<span data-value=\"607089\" name=\"nv\">607,089</span>, <span data-value=\"42,340,598\" name=\"nv\">$42.34M</span>]\n",
      "[<span data-value=\"428652\" name=\"nv\">428,652</span>, <span data-value=\"200,821,936\" name=\"nv\">$200.82M</span>]\n",
      "[<span data-value=\"685826\" name=\"nv\">685,826</span>, <span data-value=\"233,921,534\" name=\"nv\">$233.92M</span>]\n",
      "[<span data-value=\"105944\" name=\"nv\">105,944</span>, <span data-value=\"5,904,366\" name=\"nv\">$5.90M</span>]\n",
      "[<span data-value=\"795401\" name=\"nv\">795,401</span>, <span data-value=\"415,004,880\" name=\"nv\">$415.00M</span>]\n",
      "[<span data-value=\"429500\" name=\"nv\">429,500</span>, <span data-value=\"35,893,537\" name=\"nv\">$35.89M</span>]\n",
      "[<span data-value=\"156443\" name=\"nv\">156,443</span>, <span data-value=\"32,015,231\" name=\"nv\">$32.02M</span>]\n",
      "[<span data-value=\"407196\" name=\"nv\">407,196</span>, <span data-value=\"56,816,662\" name=\"nv\">$56.82M</span>]\n",
      "[<span data-value=\"109677\" name=\"nv\">109,677</span>, <span data-value=\"24,801,212\" name=\"nv\">$24.80M</span>]\n",
      "[<span data-value=\"522473\" name=\"nv\">522,473</span>, <span data-value=\"251,513,985\" name=\"nv\">$251.51M</span>]\n",
      "[<span data-value=\"435565\" name=\"nv\">435,565</span>, <span data-value=\"222,527,828\" name=\"nv\">$222.53M</span>]\n",
      "[<span data-value=\"227319\" name=\"nv\">227,319</span>, <span data-value=\"51,739,495\" name=\"nv\">$51.74M</span>]\n",
      "[<span data-value=\"164289\" name=\"nv\">164,289</span>]\n",
      "[<span data-value=\"274398\" name=\"nv\">274,398</span>, <span data-value=\"608,581,744\" name=\"nv\">$608.58M</span>]\n",
      "[<span data-value=\"261715\" name=\"nv\">261,715</span>, <span data-value=\"109,767,581\" name=\"nv\">$109.77M</span>]\n",
      "[<span data-value=\"606013\" name=\"nv\">606,013</span>, <span data-value=\"124,987,023\" name=\"nv\">$124.99M</span>]\n",
      "[<span data-value=\"320402\" name=\"nv\">320,402</span>, <span data-value=\"177,002,924\" name=\"nv\">$177.00M</span>]\n",
      "[<span data-value=\"191388\" name=\"nv\">191,388</span>, <span data-value=\"161,197,785\" name=\"nv\">$161.20M</span>]\n",
      "[<span data-value=\"122777\" name=\"nv\">122,777</span>, <span data-value=\"5,202,582\" name=\"nv\">$5.20M</span>]\n",
      "[<span data-value=\"238682\" name=\"nv\">238,682</span>, <span data-value=\"41,003,371\" name=\"nv\">$41.00M</span>]\n",
      "[<span data-value=\"175281\" name=\"nv\">175,281</span>, <span data-value=\"12,391,761\" name=\"nv\">$12.39M</span>]\n",
      "[<span data-value=\"661297\" name=\"nv\">661,297</span>, <span data-value=\"138,797,449\" name=\"nv\">$138.80M</span>]\n",
      "[<span data-value=\"67666\" name=\"nv\">67,666</span>]\n",
      "[<span data-value=\"122338\" name=\"nv\">122,338</span>, <span data-value=\"128,392\" name=\"nv\">$0.13M</span>]\n",
      "[<span data-value=\"401151\" name=\"nv\">401,151</span>, <span data-value=\"189,422,889\" name=\"nv\">$189.42M</span>]\n",
      "[<span data-value=\"87408\" name=\"nv\">87,408</span>, <span data-value=\"1,752,214\" name=\"nv\">$1.75M</span>]\n",
      "[<span data-value=\"147095\" name=\"nv\">147,095</span>, <span data-value=\"3,185,812\" name=\"nv\">$3.19M</span>]\n",
      "[<span data-value=\"346664\" name=\"nv\">346,664</span>, <span data-value=\"25,379,975\" name=\"nv\">$25.38M</span>]\n",
      "[<span data-value=\"442246\" name=\"nv\">442,246</span>, <span data-value=\"107,100,855\" name=\"nv\">$107.10M</span>]\n",
      "[<span data-value=\"150693\" name=\"nv\">150,693</span>]\n",
      "[<span data-value=\"354401\" name=\"nv\">354,401</span>, <span data-value=\"93,617,009\" name=\"nv\">$93.62M</span>]\n",
      "[<span data-value=\"338653\" name=\"nv\">338,653</span>, <span data-value=\"257,760,692\" name=\"nv\">$257.76M</span>]\n",
      "[<span data-value=\"189343\" name=\"nv\">189,343</span>, <span data-value=\"3,107,072\" name=\"nv\">$3.11M</span>]\n",
      "[<span data-value=\"44505\" name=\"nv\">44,505</span>]\n",
      "[<span data-value=\"104930\" name=\"nv\">104,930</span>]\n",
      "[<span data-value=\"154993\" name=\"nv\">154,993</span>, <span data-value=\"26,020,957\" name=\"nv\">$26.02M</span>]\n",
      "[<span data-value=\"69406\" name=\"nv\">69,406</span>, <span data-value=\"40,442,052\" name=\"nv\">$40.44M</span>]\n",
      "[<span data-value=\"234710\" name=\"nv\">234,710</span>, <span data-value=\"7,098,492\" name=\"nv\">$7.10M</span>]\n",
      "[<span data-value=\"110001\" name=\"nv\">110,001</span>, <span data-value=\"6,738,000\" name=\"nv\">$6.74M</span>]\n",
      "[<span data-value=\"54697\" name=\"nv\">54,697</span>, <span data-value=\"3,492,754\" name=\"nv\">$3.49M</span>]\n",
      "[<span data-value=\"198528\" name=\"nv\">198,528</span>, <span data-value=\"4,105,123\" name=\"nv\">$4.11M</span>]\n",
      "[<span data-value=\"324183\" name=\"nv\">324,183</span>, <span data-value=\"35,014,192\" name=\"nv\">$35.01M</span>]\n",
      "[<span data-value=\"150649\" name=\"nv\">150,649</span>, <span data-value=\"8,114,627\" name=\"nv\">$8.11M</span>]\n",
      "[<span data-value=\"55223\" name=\"nv\">55,223</span>, <span data-value=\"6,735,118\" name=\"nv\">$6.74M</span>]\n",
      "[<span data-value=\"51765\" name=\"nv\">51,765</span>, <span data-value=\"3,358,518\" name=\"nv\">$3.36M</span>]\n",
      "[<span data-value=\"64675\" name=\"nv\">64,675</span>, <span data-value=\"18,340,051\" name=\"nv\">$18.34M</span>]\n",
      "[<span data-value=\"114723\" name=\"nv\">114,723</span>, <span data-value=\"85,433\" name=\"nv\">$0.09M</span>]\n",
      "[<span data-value=\"38777\" name=\"nv\">38,777</span>]\n",
      "[<span data-value=\"81825\" name=\"nv\">81,825</span>, <span data-value=\"71,177\" name=\"nv\">$0.07M</span>]\n",
      "[<span data-value=\"116015\" name=\"nv\">116,015</span>, <span data-value=\"17,654,912\" name=\"nv\">$17.65M</span>]\n",
      "[<span data-value=\"27405\" name=\"nv\">27,405</span>]\n",
      "[<span data-value=\"119633\" name=\"nv\">119,633</span>, <span data-value=\"2,625,803\" name=\"nv\">$2.63M</span>]\n",
      "[<span data-value=\"85380\" name=\"nv\">85,380</span>, <span data-value=\"1,373,943\" name=\"nv\">$1.37M</span>]\n",
      "[<span data-value=\"237242\" name=\"nv\">237,242</span>, <span data-value=\"44,671,682\" name=\"nv\">$44.67M</span>]\n",
      "[<span data-value=\"26806\" name=\"nv\">26,806</span>]\n",
      "[<span data-value=\"91306\" name=\"nv\">91,306</span>]\n",
      "[<span data-value=\"56699\" name=\"nv\">56,699</span>]\n",
      "[<span data-value=\"85786\" name=\"nv\">85,786</span>, <span data-value=\"1,010,414\" name=\"nv\">$1.01M</span>]\n",
      "[<span data-value=\"90383\" name=\"nv\">90,383</span>, <span data-value=\"3,237,118\" name=\"nv\">$3.24M</span>]\n",
      "[<span data-value=\"174549\" name=\"nv\">174,549</span>, <span data-value=\"10,616,104\" name=\"nv\">$10.62M</span>]\n",
      "[<span data-value=\"78662\" name=\"nv\">78,662</span>, <span data-value=\"83,861\" name=\"nv\">$0.08M</span>]\n",
      "[<span data-value=\"62810\" name=\"nv\">62,810</span>]\n",
      "[<span data-value=\"61213\" name=\"nv\">61,213</span>, <span data-value=\"1,035,953\" name=\"nv\">$1.04M</span>]\n",
      "[<span data-value=\"80462\" name=\"nv\">80,462</span>, <span data-value=\"5,209,580\" name=\"nv\">$5.21M</span>]\n",
      "[<span data-value=\"71298\" name=\"nv\">71,298</span>, <span data-value=\"3,313,513\" name=\"nv\">$3.31M</span>]\n",
      "[<span data-value=\"128295\" name=\"nv\">128,295</span>, <span data-value=\"6,743,776\" name=\"nv\">$6.74M</span>]\n",
      "[<span data-value=\"97503\" name=\"nv\">97,503</span>, <span data-value=\"6,739,492\" name=\"nv\">$6.74M</span>]\n",
      "[<span data-value=\"67203\" name=\"nv\">67,203</span>, <span data-value=\"6,460\" name=\"nv\">$0.01M</span>]\n",
      "[<span data-value=\"28719\" name=\"nv\">28,719</span>, <span data-value=\"335,609\" name=\"nv\">$0.34M</span>]\n",
      "[<span data-value=\"54838\" name=\"nv\">54,838</span>]\n",
      "[<span data-value=\"61838\" name=\"nv\">61,838</span>]\n",
      "[<span data-value=\"36847\" name=\"nv\">36,847</span>]\n",
      "[<span data-value=\"97915\" name=\"nv\">97,915</span>, <span data-value=\"37,707,719\" name=\"nv\">$37.71M</span>]\n",
      "[<span data-value=\"44032\" name=\"nv\">44,032</span>]\n",
      "[<span data-value=\"50484\" name=\"nv\">50,484</span>]\n",
      "[<span data-value=\"124714\" name=\"nv\">124,714</span>, <span data-value=\"48,023,088\" name=\"nv\">$48.02M</span>]\n",
      "[<span data-value=\"54105\" name=\"nv\">54,105</span>, <span data-value=\"4,186,168\" name=\"nv\">$4.19M</span>]\n",
      "[<span data-value=\"37394\" name=\"nv\">37,394</span>, <span data-value=\"765,127\" name=\"nv\">$0.77M</span>]\n",
      "[<span data-value=\"26597\" name=\"nv\">26,597</span>]\n",
      "[<span data-value=\"77781\" name=\"nv\">77,781</span>, <span data-value=\"739,478\" name=\"nv\">$0.74M</span>]\n",
      "[<span data-value=\"80026\" name=\"nv\">80,026</span>]\n",
      "[<span data-value=\"52029\" name=\"nv\">52,029</span>, <span data-value=\"1,092,800\" name=\"nv\">$1.09M</span>]\n",
      "[<span data-value=\"82553\" name=\"nv\">82,553</span>, <span data-value=\"8,178,001\" name=\"nv\">$8.18M</span>]\n",
      "[<span data-value=\"43438\" name=\"nv\">43,438</span>, <span data-value=\"1,506,975\" name=\"nv\">$1.51M</span>]\n",
      "[<span data-value=\"32086\" name=\"nv\">32,086</span>, <span data-value=\"566,356\" name=\"nv\">$0.57M</span>]\n",
      "[<span data-value=\"57210\" name=\"nv\">57,210</span>, <span data-value=\"2,402,067\" name=\"nv\">$2.40M</span>]\n",
      "[<span data-value=\"60020\" name=\"nv\">60,020</span>, <span data-value=\"1,339,152\" name=\"nv\">$1.34M</span>]\n",
      "[<span data-value=\"39275\" name=\"nv\">39,275</span>, <span data-value=\"435,266\" name=\"nv\">$0.44M</span>]\n",
      "[<span data-value=\"27856\" name=\"nv\">27,856</span>, <span data-value=\"2,269,878\" name=\"nv\">$2.27M</span>]\n",
      "[<span data-value=\"56080\" name=\"nv\">56,080</span>, <span data-value=\"857,524\" name=\"nv\">$0.86M</span>]\n",
      "[<span data-value=\"42453\" name=\"nv\">42,453</span>]\n",
      "[<span data-value=\"36511\" name=\"nv\">36,511</span>, <span data-value=\"5,566,534\" name=\"nv\">$5.57M</span>]\n",
      "[<span data-value=\"28699\" name=\"nv\">28,699</span>]\n",
      "[<span data-value=\"50095\" name=\"nv\">50,095</span>, <span data-value=\"165,520\" name=\"nv\">$0.17M</span>]\n",
      "[<span data-value=\"73915\" name=\"nv\">73,915</span>, <span data-value=\"3,108,485\" name=\"nv\">$3.11M</span>]\n",
      "[<span data-value=\"57809\" name=\"nv\">57,809</span>, <span data-value=\"258,168\" name=\"nv\">$0.26M</span>]\n",
      "[<span data-value=\"103553\" name=\"nv\">103,553</span>, <span data-value=\"4,018,695\" name=\"nv\">$4.02M</span>]\n",
      "[<span data-value=\"37621\" name=\"nv\">37,621</span>]\n",
      "[<span data-value=\"26153\" name=\"nv\">26,153</span>, <span data-value=\"1,861,000\" name=\"nv\">$1.86M</span>]\n",
      "[<span data-value=\"82743\" name=\"nv\">82,743</span>, <span data-value=\"20,186,659\" name=\"nv\">$20.19M</span>]\n",
      "[<span data-value=\"40611\" name=\"nv\">40,611</span>, <span data-value=\"175,058\" name=\"nv\">$0.18M</span>]\n",
      "[<span data-value=\"39592\" name=\"nv\">39,592</span>, <span data-value=\"1,008,098\" name=\"nv\">$1.01M</span>]\n",
      "[<span data-value=\"46315\" name=\"nv\">46,315</span>, <span data-value=\"898,575\" name=\"nv\">$0.90M</span>]\n",
      "[<span data-value=\"54010\" name=\"nv\">54,010</span>, <span data-value=\"4,231,500\" name=\"nv\">$4.23M</span>]\n",
      "[<span data-value=\"42628\" name=\"nv\">42,628</span>, <span data-value=\"985,912\" name=\"nv\">$0.99M</span>]\n",
      "[<span data-value=\"47761\" name=\"nv\">47,761</span>, <span data-value=\"1,330,596\" name=\"nv\">$1.33M</span>]\n",
      "[<span data-value=\"49540\" name=\"nv\">49,540</span>, <span data-value=\"1,782,795\" name=\"nv\">$1.78M</span>]\n",
      "[<span data-value=\"45033\" name=\"nv\">45,033</span>, <span data-value=\"138,730\" name=\"nv\">$0.14M</span>]\n",
      "[<span data-value=\"35011\" name=\"nv\">35,011</span>]\n",
      "[<span data-value=\"28603\" name=\"nv\">28,603</span>]\n",
      "[<span data-value=\"37853\" name=\"nv\">37,853</span>]\n",
      "[<span data-value=\"64179\" name=\"nv\">64,179</span>, <span data-value=\"1,429,534\" name=\"nv\">$1.43M</span>]\n",
      "[<span data-value=\"56080\" name=\"nv\">56,080</span>]\n",
      "[<span data-value=\"79492\" name=\"nv\">79,492</span>, <span data-value=\"2,804,874\" name=\"nv\">$2.80M</span>]\n",
      "[<span data-value=\"38776\" name=\"nv\">38,776</span>]\n",
      "[<span data-value=\"44796\" name=\"nv\">44,796</span>, <span data-value=\"144,501\" name=\"nv\">$0.14M</span>]\n",
      "[<span data-value=\"43126\" name=\"nv\">43,126</span>, <span data-value=\"1,241,223\" name=\"nv\">$1.24M</span>]\n",
      "[<span data-value=\"52692\" name=\"nv\">52,692</span>, <span data-value=\"901,610\" name=\"nv\">$0.90M</span>]\n",
      "[<span data-value=\"33826\" name=\"nv\">33,826</span>, <span data-value=\"342,370\" name=\"nv\">$0.34M</span>]\n",
      "[<span data-value=\"26699\" name=\"nv\">26,699</span>]\n",
      "[<span data-value=\"54422\" name=\"nv\">54,422</span>, <span data-value=\"1,079,369\" name=\"nv\">$1.08M</span>]\n",
      "[<span data-value=\"81613\" name=\"nv\">81,613</span>, <span data-value=\"100,119\" name=\"nv\">$0.10M</span>]\n",
      "[<span data-value=\"44212\" name=\"nv\">44,212</span>, <span data-value=\"7,461\" name=\"nv\">$0.01M</span>]\n",
      "[<span data-value=\"29215\" name=\"nv\">29,215</span>]\n",
      "[<span data-value=\"31926\" name=\"nv\">31,926</span>]\n",
      "[<span data-value=\"55623\" name=\"nv\">55,623</span>]\n",
      "[<span data-value=\"35256\" name=\"nv\">35,256</span>, <span data-value=\"39,567\" name=\"nv\">$0.04M</span>]\n",
      "[<span data-value=\"41970\" name=\"nv\">41,970</span>, <span data-value=\"169,209\" name=\"nv\">$0.17M</span>]\n",
      "[<span data-value=\"55995\" name=\"nv\">55,995</span>, <span data-value=\"923,221\" name=\"nv\">$0.92M</span>]\n",
      "[<span data-value=\"35767\" name=\"nv\">35,767</span>, <span data-value=\"1,122,527\" name=\"nv\">$1.12M</span>]\n",
      "[<span data-value=\"65489\" name=\"nv\">65,489</span>, <span data-value=\"1,626,289\" name=\"nv\">$1.63M</span>]\n"
     ]
    }
   ],
   "source": [
    "for i in movies:\n",
    "    print(i.find_all(\"span\", {'name':'nv',\"data-value\": True}))"
   ]
  },
  {
   "cell_type": "code",
   "execution_count": 61,
   "id": "3e90782f",
   "metadata": {},
   "outputs": [],
   "source": [
    "Name = []\n",
    "Year = []\n",
    "Ratings = []\n",
    "Meta_Scores = []\n",
    "Votes = []\n",
    "Gross = []\n",
    "for i in movies:\n",
    "    # Her bir filmin bulundugu etiketi secip, filmlerin adını listeye basma\n",
    "    Name.append(i.h3.a.text) \n",
    "    \n",
    "    # Her bir filmin bulundugu etiketi secip, filmlerin yılını listeye basma\n",
    "    Year.append(i.find('span', {'class':'lister-item-year text-muted unbold'})) #.text[1:5]\n",
    "    \n",
    "    # Her bir filmin bulundugu etiketi secip, filmlerin imdb puanını listeye basma\n",
    "    Ratings.append(i.find('div', {'class':'inline-block ratings-imdb-rating'})['data-value'])\n",
    "    \n",
    "    #Eger kazidigimiz veride gross degeri varsa Gross Listesine append et, yoksa except'e dus 0 ekle\n",
    "    try:\n",
    "        Gross.append(i.find_all(\"span\", {'name':'nv',\"data-value\": True})[1].text)\n",
    "    except:\n",
    "        Gross.append(0)\n",
    "        \n",
    "    #Eger kazidigimiz veride MetaScore degeri varsa Meta_Scores Listesine append et, yoksa except'e dus 0 ekle\n",
    "    try:\n",
    "        Meta_Scores.append(i.find('div', {'class':'inline-block ratings-metascore'}).span.text.strip())\n",
    "    except:\n",
    "        Meta_Scores.append(0)\n",
    "    \n",
    "    # Her bir filmin bulundugu etiketi secip, filmlerin kac kisi tarafından oylandiginin puanını listeye basma\n",
    "    Votes.append(i.find('span', {'name':'nv'})['data-value'])\n",
    "    "
   ]
  },
  {
   "cell_type": "code",
   "execution_count": 62,
   "id": "4f147efe",
   "metadata": {},
   "outputs": [],
   "source": [
    "#Veriyi zip haline getirdik\n",
    "data = list(zip(Name, Year, Ratings, Meta_Scores, Votes, Gross))"
   ]
  },
  {
   "cell_type": "code",
   "execution_count": 63,
   "id": "d8a90749",
   "metadata": {},
   "outputs": [],
   "source": [
    "#data"
   ]
  },
  {
   "cell_type": "code",
   "execution_count": 64,
   "id": "aa63946a",
   "metadata": {},
   "outputs": [],
   "source": [
    "import pandas as pd\n",
    "\n",
    "# Zip haline gelen veriyi dataFrame'e cevirdik\n",
    "df = pd.DataFrame(data, columns=[\"Name\", \"Year\", \"Rating\",\"Metascore\",\"Votes\",\"Gross\"])"
   ]
  },
  {
   "cell_type": "code",
   "execution_count": 65,
   "id": "670cec23",
   "metadata": {},
   "outputs": [
    {
     "data": {
      "text/html": [
       "<div>\n",
       "<style scoped>\n",
       "    .dataframe tbody tr th:only-of-type {\n",
       "        vertical-align: middle;\n",
       "    }\n",
       "\n",
       "    .dataframe tbody tr th {\n",
       "        vertical-align: top;\n",
       "    }\n",
       "\n",
       "    .dataframe thead th {\n",
       "        text-align: right;\n",
       "    }\n",
       "</style>\n",
       "<table border=\"1\" class=\"dataframe\">\n",
       "  <thead>\n",
       "    <tr style=\"text-align: right;\">\n",
       "      <th></th>\n",
       "      <th>Name</th>\n",
       "      <th>Year</th>\n",
       "      <th>Rating</th>\n",
       "      <th>Metascore</th>\n",
       "      <th>Votes</th>\n",
       "      <th>Gross</th>\n",
       "    </tr>\n",
       "  </thead>\n",
       "  <tbody>\n",
       "    <tr>\n",
       "      <th>0</th>\n",
       "      <td>Avengers: Endgame</td>\n",
       "      <td>[(2019)]</td>\n",
       "      <td>8.4</td>\n",
       "      <td>78</td>\n",
       "      <td>978309</td>\n",
       "      <td>$858.37M</td>\n",
       "    </tr>\n",
       "    <tr>\n",
       "      <th>1</th>\n",
       "      <td>Spider-Man: Into the Spider-Verse</td>\n",
       "      <td>[(2018)]</td>\n",
       "      <td>8.4</td>\n",
       "      <td>87</td>\n",
       "      <td>449463</td>\n",
       "      <td>$190.24M</td>\n",
       "    </tr>\n",
       "    <tr>\n",
       "      <th>2</th>\n",
       "      <td>Klaus</td>\n",
       "      <td>[(2019)]</td>\n",
       "      <td>8.2</td>\n",
       "      <td>65</td>\n",
       "      <td>129455</td>\n",
       "      <td>0</td>\n",
       "    </tr>\n",
       "    <tr>\n",
       "      <th>3</th>\n",
       "      <td>Interstellar</td>\n",
       "      <td>[(2014)]</td>\n",
       "      <td>8.6</td>\n",
       "      <td>74</td>\n",
       "      <td>1657194</td>\n",
       "      <td>$188.02M</td>\n",
       "    </tr>\n",
       "    <tr>\n",
       "      <th>4</th>\n",
       "      <td>The Wolf of Wall Street</td>\n",
       "      <td>[(2013)]</td>\n",
       "      <td>8.2</td>\n",
       "      <td>75</td>\n",
       "      <td>1292089</td>\n",
       "      <td>$116.90M</td>\n",
       "    </tr>\n",
       "    <tr>\n",
       "      <th>...</th>\n",
       "      <td>...</td>\n",
       "      <td>...</td>\n",
       "      <td>...</td>\n",
       "      <td>...</td>\n",
       "      <td>...</td>\n",
       "      <td>...</td>\n",
       "    </tr>\n",
       "    <tr>\n",
       "      <th>245</th>\n",
       "      <td>Paan Singh Tomar</td>\n",
       "      <td>[(2012)]</td>\n",
       "      <td>8.2</td>\n",
       "      <td>Gross yok</td>\n",
       "      <td>35256</td>\n",
       "      <td>$0.04M</td>\n",
       "    </tr>\n",
       "    <tr>\n",
       "      <th>246</th>\n",
       "      <td>Vicky Donor</td>\n",
       "      <td>[(2012)]</td>\n",
       "      <td>7.8</td>\n",
       "      <td>Gross yok</td>\n",
       "      <td>41970</td>\n",
       "      <td>$0.17M</td>\n",
       "    </tr>\n",
       "    <tr>\n",
       "      <th>247</th>\n",
       "      <td>OMG: Oh My God!</td>\n",
       "      <td>[(2012)]</td>\n",
       "      <td>8.1</td>\n",
       "      <td>Gross yok</td>\n",
       "      <td>55995</td>\n",
       "      <td>$0.92M</td>\n",
       "    </tr>\n",
       "    <tr>\n",
       "      <th>248</th>\n",
       "      <td>Kai po che!</td>\n",
       "      <td>[(2013)]</td>\n",
       "      <td>7.8</td>\n",
       "      <td>40</td>\n",
       "      <td>35767</td>\n",
       "      <td>$1.12M</td>\n",
       "    </tr>\n",
       "    <tr>\n",
       "      <th>249</th>\n",
       "      <td>Bhaag Milkha Bhaag</td>\n",
       "      <td>[(2013)]</td>\n",
       "      <td>8.2</td>\n",
       "      <td>Gross yok</td>\n",
       "      <td>65489</td>\n",
       "      <td>$1.63M</td>\n",
       "    </tr>\n",
       "  </tbody>\n",
       "</table>\n",
       "<p>250 rows × 6 columns</p>\n",
       "</div>"
      ],
      "text/plain": [
       "                                  Name      Year Rating  Metascore    Votes  \\\n",
       "0                    Avengers: Endgame  [(2019)]    8.4         78   978309   \n",
       "1    Spider-Man: Into the Spider-Verse  [(2018)]    8.4         87   449463   \n",
       "2                                Klaus  [(2019)]    8.2         65   129455   \n",
       "3                         Interstellar  [(2014)]    8.6         74  1657194   \n",
       "4              The Wolf of Wall Street  [(2013)]    8.2         75  1292089   \n",
       "..                                 ...       ...    ...        ...      ...   \n",
       "245                   Paan Singh Tomar  [(2012)]    8.2  Gross yok    35256   \n",
       "246                        Vicky Donor  [(2012)]    7.8  Gross yok    41970   \n",
       "247                    OMG: Oh My God!  [(2012)]    8.1  Gross yok    55995   \n",
       "248                        Kai po che!  [(2013)]    7.8         40    35767   \n",
       "249                 Bhaag Milkha Bhaag  [(2013)]    8.2  Gross yok    65489   \n",
       "\n",
       "        Gross  \n",
       "0    $858.37M  \n",
       "1    $190.24M  \n",
       "2           0  \n",
       "3    $188.02M  \n",
       "4    $116.90M  \n",
       "..        ...  \n",
       "245    $0.04M  \n",
       "246    $0.17M  \n",
       "247    $0.92M  \n",
       "248    $1.12M  \n",
       "249    $1.63M  \n",
       "\n",
       "[250 rows x 6 columns]"
      ]
     },
     "execution_count": 65,
     "metadata": {},
     "output_type": "execute_result"
    }
   ],
   "source": [
    "df"
   ]
  },
  {
   "cell_type": "code",
   "execution_count": 56,
   "id": "14678e58",
   "metadata": {},
   "outputs": [
    {
     "data": {
      "text/html": [
       "<div>\n",
       "<style scoped>\n",
       "    .dataframe tbody tr th:only-of-type {\n",
       "        vertical-align: middle;\n",
       "    }\n",
       "\n",
       "    .dataframe tbody tr th {\n",
       "        vertical-align: top;\n",
       "    }\n",
       "\n",
       "    .dataframe thead th {\n",
       "        text-align: right;\n",
       "    }\n",
       "</style>\n",
       "<table border=\"1\" class=\"dataframe\">\n",
       "  <thead>\n",
       "    <tr style=\"text-align: right;\">\n",
       "      <th></th>\n",
       "      <th>Name</th>\n",
       "      <th>Year</th>\n",
       "      <th>Rating</th>\n",
       "      <th>Metascore</th>\n",
       "      <th>Votes</th>\n",
       "      <th>Gross</th>\n",
       "    </tr>\n",
       "  </thead>\n",
       "  <tbody>\n",
       "    <tr>\n",
       "      <th>26</th>\n",
       "      <td>The Avengers</td>\n",
       "      <td>[(2012)]</td>\n",
       "      <td>8</td>\n",
       "      <td>69</td>\n",
       "      <td>1324403</td>\n",
       "      <td>$623.28M</td>\n",
       "    </tr>\n",
       "    <tr>\n",
       "      <th>178</th>\n",
       "      <td>PK</td>\n",
       "      <td>[(2014)]</td>\n",
       "      <td>8.1</td>\n",
       "      <td>0</td>\n",
       "      <td>174549</td>\n",
       "      <td>$10.62M</td>\n",
       "    </tr>\n",
       "    <tr>\n",
       "      <th>12</th>\n",
       "      <td>Inception</td>\n",
       "      <td>[(2010)]</td>\n",
       "      <td>8.8</td>\n",
       "      <td>74</td>\n",
       "      <td>2206509</td>\n",
       "      <td>$292.58M</td>\n",
       "    </tr>\n",
       "    <tr>\n",
       "      <th>204</th>\n",
       "      <td>Forushande</td>\n",
       "      <td>[(2016)]</td>\n",
       "      <td>7.7</td>\n",
       "      <td>85</td>\n",
       "      <td>57210</td>\n",
       "      <td>$2.40M</td>\n",
       "    </tr>\n",
       "    <tr>\n",
       "      <th>241</th>\n",
       "      <td>Udaan</td>\n",
       "      <td>[(2010)]</td>\n",
       "      <td>8.2</td>\n",
       "      <td>0</td>\n",
       "      <td>44212</td>\n",
       "      <td>$0.01M</td>\n",
       "    </tr>\n",
       "    <tr>\n",
       "      <th>...</th>\n",
       "      <td>...</td>\n",
       "      <td>...</td>\n",
       "      <td>...</td>\n",
       "      <td>...</td>\n",
       "      <td>...</td>\n",
       "      <td>...</td>\n",
       "    </tr>\n",
       "    <tr>\n",
       "      <th>86</th>\n",
       "      <td>Silver Linings Playbook</td>\n",
       "      <td>[(2012)]</td>\n",
       "      <td>7.7</td>\n",
       "      <td>81</td>\n",
       "      <td>686530</td>\n",
       "      <td>$132.09M</td>\n",
       "    </tr>\n",
       "    <tr>\n",
       "      <th>207</th>\n",
       "      <td>Super 30</td>\n",
       "      <td>[(2019)]</td>\n",
       "      <td>8</td>\n",
       "      <td>0</td>\n",
       "      <td>27856</td>\n",
       "      <td>$2.27M</td>\n",
       "    </tr>\n",
       "    <tr>\n",
       "      <th>35</th>\n",
       "      <td>Rogue One</td>\n",
       "      <td>[(2016)]</td>\n",
       "      <td>7.8</td>\n",
       "      <td>65</td>\n",
       "      <td>588830</td>\n",
       "      <td>$532.18M</td>\n",
       "    </tr>\n",
       "    <tr>\n",
       "      <th>220</th>\n",
       "      <td>Hævnen</td>\n",
       "      <td>[(2010)]</td>\n",
       "      <td>7.6</td>\n",
       "      <td>65</td>\n",
       "      <td>39592</td>\n",
       "      <td>$1.01M</td>\n",
       "    </tr>\n",
       "    <tr>\n",
       "      <th>41</th>\n",
       "      <td>Whiplash</td>\n",
       "      <td>[(2014)]</td>\n",
       "      <td>8.5</td>\n",
       "      <td>88</td>\n",
       "      <td>778669</td>\n",
       "      <td>$13.09M</td>\n",
       "    </tr>\n",
       "  </tbody>\n",
       "</table>\n",
       "<p>250 rows × 6 columns</p>\n",
       "</div>"
      ],
      "text/plain": [
       "                        Name      Year Rating Metascore    Votes     Gross\n",
       "26              The Avengers  [(2012)]      8        69  1324403  $623.28M\n",
       "178                       PK  [(2014)]    8.1         0   174549   $10.62M\n",
       "12                 Inception  [(2010)]    8.8        74  2206509  $292.58M\n",
       "204               Forushande  [(2016)]    7.7        85    57210    $2.40M\n",
       "241                    Udaan  [(2010)]    8.2         0    44212    $0.01M\n",
       "..                       ...       ...    ...       ...      ...       ...\n",
       "86   Silver Linings Playbook  [(2012)]    7.7        81   686530  $132.09M\n",
       "207                 Super 30  [(2019)]      8         0    27856    $2.27M\n",
       "35                 Rogue One  [(2016)]    7.8        65   588830  $532.18M\n",
       "220                   Hævnen  [(2010)]    7.6        65    39592    $1.01M\n",
       "41                  Whiplash  [(2014)]    8.5        88   778669   $13.09M\n",
       "\n",
       "[250 rows x 6 columns]"
      ]
     },
     "execution_count": 56,
     "metadata": {},
     "output_type": "execute_result"
    }
   ],
   "source": [
    "df.sample(frac=1)"
   ]
  },
  {
   "cell_type": "code",
   "execution_count": 71,
   "id": "d2019601",
   "metadata": {},
   "outputs": [
    {
     "ename": "AttributeError",
     "evalue": "ResultSet object has no attribute 'findAll'. You're probably treating a list of elements like a single element. Did you call find_all() when you meant to call find()?",
     "output_type": "error",
     "traceback": [
      "\u001b[1;31m---------------------------------------------------------------------------\u001b[0m",
      "\u001b[1;31mAttributeError\u001b[0m                            Traceback (most recent call last)",
      "\u001b[1;32m~\\AppData\\Local\\Temp/ipykernel_7684/3782236698.py\u001b[0m in \u001b[0;36m<module>\u001b[1;34m\u001b[0m\n\u001b[1;32m----> 1\u001b[1;33m \u001b[0mmy_movie\u001b[0m \u001b[1;33m=\u001b[0m \u001b[0mmovies\u001b[0m\u001b[1;33m.\u001b[0m\u001b[0mfindAll\u001b[0m\u001b[1;33m(\u001b[0m\u001b[1;34m'span'\u001b[0m\u001b[1;33m)\u001b[0m\u001b[1;33m\u001b[0m\u001b[1;33m\u001b[0m\u001b[0m\n\u001b[0m",
      "\u001b[1;32m~\\anaconda3\\lib\\site-packages\\bs4\\element.py\u001b[0m in \u001b[0;36m__getattr__\u001b[1;34m(self, key)\u001b[0m\n\u001b[0;32m   2251\u001b[0m     \u001b[1;32mdef\u001b[0m \u001b[0m__getattr__\u001b[0m\u001b[1;33m(\u001b[0m\u001b[0mself\u001b[0m\u001b[1;33m,\u001b[0m \u001b[0mkey\u001b[0m\u001b[1;33m)\u001b[0m\u001b[1;33m:\u001b[0m\u001b[1;33m\u001b[0m\u001b[1;33m\u001b[0m\u001b[0m\n\u001b[0;32m   2252\u001b[0m         \u001b[1;34m\"\"\"Raise a helpful exception to explain a common code fix.\"\"\"\u001b[0m\u001b[1;33m\u001b[0m\u001b[1;33m\u001b[0m\u001b[0m\n\u001b[1;32m-> 2253\u001b[1;33m         raise AttributeError(\n\u001b[0m\u001b[0;32m   2254\u001b[0m             \u001b[1;34m\"ResultSet object has no attribute '%s'. You're probably treating a list of elements like a single element. Did you call find_all() when you meant to call find()?\"\u001b[0m \u001b[1;33m%\u001b[0m \u001b[0mkey\u001b[0m\u001b[1;33m\u001b[0m\u001b[1;33m\u001b[0m\u001b[0m\n\u001b[0;32m   2255\u001b[0m         )\n",
      "\u001b[1;31mAttributeError\u001b[0m: ResultSet object has no attribute 'findAll'. You're probably treating a list of elements like a single element. Did you call find_all() when you meant to call find()?"
     ]
    }
   ],
   "source": [
    "my_movie = movies.findAll('span')"
   ]
  }
 ],
 "metadata": {
  "kernelspec": {
   "display_name": "Python 3 (ipykernel)",
   "language": "python",
   "name": "python3"
  },
  "language_info": {
   "codemirror_mode": {
    "name": "ipython",
    "version": 3
   },
   "file_extension": ".py",
   "mimetype": "text/x-python",
   "name": "python",
   "nbconvert_exporter": "python",
   "pygments_lexer": "ipython3",
   "version": "3.8.12"
  }
 },
 "nbformat": 4,
 "nbformat_minor": 5
}
